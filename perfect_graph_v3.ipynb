{
 "cells": [
  {
   "cell_type": "code",
   "execution_count": 2,
   "metadata": {},
   "outputs": [
    {
     "name": "stdout",
     "output_type": "stream",
     "text": [
      "The graph is a perfect graph\n"
     ]
    }
   ],
   "source": [
    "from sage.all import *\n",
    "from sage.graphs.graph_coloring import chromatic_number\n",
    "\n",
    "\n",
    "G = graphs.RandomIntervalGraph(7)\n",
    "#G = graphs.CompleteGraph(10)\n",
    "#G = graphs.PetersenGraph()\n",
    "\n",
    "T = G.is_perfect()\n",
    "\n",
    "if T == True:\n",
    "    print(\"The graph is a perfect graph\")\n",
    "else:\n",
    "    print(\"The graph is not a perfect graph\")"
   ]
  },
  {
   "cell_type": "code",
   "execution_count": null,
   "metadata": {},
   "outputs": [],
   "source": []
  },
  {
   "cell_type": "code",
   "execution_count": null,
   "metadata": {},
   "outputs": [],
   "source": []
  }
 ],
 "metadata": {
  "kernelspec": {
   "display_name": "SageMath 9.0",
   "language": "sage",
   "name": "sagemath"
  },
  "language_info": {
   "codemirror_mode": {
    "name": "ipython",
    "version": 3
   },
   "file_extension": ".py",
   "mimetype": "text/x-python",
   "name": "python",
   "nbconvert_exporter": "python",
   "pygments_lexer": "ipython3",
   "version": "3.8.10"
  }
 },
 "nbformat": 4,
 "nbformat_minor": 4
}
