{
 "cells": [
  {
   "cell_type": "code",
   "execution_count": 81,
   "metadata": {},
   "outputs": [
    {
     "name": "stdout",
     "output_type": "stream",
     "text": [
      "The graph is a perfect graph\n"
     ]
    }
   ],
   "source": [
    "from sage.all import *\n",
    "import itertools\n",
    "\n",
    "#G = graphs.RandomIntervalGraph(7)\n",
    "G = graphs.CompleteGraph(10)\n",
    "#G = graphs.PetersenGraph()\n",
    "V = G.vertices()\n",
    "O = G.order()\n",
    "C = G.clique_number(algorithm='networkx')\n",
    "\n",
    "X = []\n",
    "for i in range(O):\n",
    "    Y = list(itertools.combinations(V,i))\n",
    "    X.append(Y)\n",
    "\n",
    "\n",
    "Z = []\n",
    "for i in range(len(X)):\n",
    "    for j in range(len(X[i])):\n",
    "        Z.append(list(X[i][j]))\n",
    "        \n",
    "CL = []\n",
    "CR = []\n",
    "for k in range(len(Z)):\n",
    "    S = G.subgraph(Z[k])\n",
    "    #S.show()\n",
    "    T = S.clique_number(algorithm='networkx')\n",
    "    U = chromatic_number(S)\n",
    "    CL.append(T)\n",
    "    CR.append(U)\n",
    "\n",
    "\n",
    "CL.sort()\n",
    "CR.sort()\n",
    "\n",
    "\n",
    "if CL == CR:\n",
    "    if O == C:\n",
    "        m = max(CL)+1\n",
    "        n = max(CR)+1\n",
    "    else:\n",
    "        m = max(CL)\n",
    "        n = max(CR)\n",
    "\n",
    "\n",
    "if m == n:\n",
    "    print(\"The graph is a perfect graph\")\n",
    "else:\n",
    "    print(\"The graph is not a perfect graph\")\n"
   ]
  },
  {
   "cell_type": "code",
   "execution_count": null,
   "metadata": {},
   "outputs": [],
   "source": []
  },
  {
   "cell_type": "code",
   "execution_count": null,
   "metadata": {},
   "outputs": [],
   "source": []
  }
 ],
 "metadata": {
  "kernelspec": {
   "display_name": "SageMath 9.0",
   "language": "sage",
   "name": "sagemath"
  },
  "language_info": {
   "codemirror_mode": {
    "name": "ipython",
    "version": 3
   },
   "file_extension": ".py",
   "mimetype": "text/x-python",
   "name": "python",
   "nbconvert_exporter": "python",
   "pygments_lexer": "ipython3",
   "version": "3.8.10"
  }
 },
 "nbformat": 4,
 "nbformat_minor": 4
}
